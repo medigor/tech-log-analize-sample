{
 "metadata": {
  "language_info": {
   "codemirror_mode": {
    "name": "ipython",
    "version": 3
   },
   "file_extension": ".py",
   "mimetype": "text/x-python",
   "name": "python",
   "nbconvert_exporter": "python",
   "pygments_lexer": "ipython3",
   "version": "3.7.6-final"
  },
  "orig_nbformat": 2,
  "kernelspec": {
   "name": ".net-fsharp",
   "display_name": ".NET (F#)"
  }
 },
 "nbformat": 4,
 "nbformat_minor": 2,
 "cells": [
  {
   "cell_type": "code",
   "execution_count": null,
   "metadata": {},
   "outputs": [],
   "source": [
    "open System\n",
    "open System.IO\n",
    "\n",
    "#load @\"Parser.fs\"\n",
    "open Imed.Parser"
   ]
  },
  {
   "cell_type": "code",
   "execution_count": null,
   "metadata": {},
   "outputs": [],
   "source": [
    "// Все события (ленивый список)\n",
    "let allEvents =\n",
    "    Directory.GetFiles(@\"C:\\Users\\medvedev_i\\Desktop\\1\\task_queue\\\", \"*.log\", SearchOption.AllDirectories)\n",
    "    |> Seq.map Parser.getEvents\n",
    "    |> Seq.collect id"
   ]
  },
  {
   "cell_type": "code",
   "execution_count": null,
   "metadata": {},
   "outputs": [],
   "source": [
    "// Количество событий\n",
    "allEvents\n",
    "|> Seq.length"
   ]
  },
  {
   "cell_type": "code",
   "execution_count": null,
   "metadata": {},
   "outputs": [],
   "source": [
    "// топ 3 долгих событий\n",
    "allEvents\n",
    "|> Seq.sortByDescending (fun x -> x.Duration)\n",
    "|> Seq.take 3"
   ]
  },
  {
   "cell_type": "code",
   "execution_count": null,
   "metadata": {},
   "outputs": [],
   "source": [
    "// Длительность всех событий\n",
    "allEvents\n",
    "|> Seq.sumBy (fun x -> x.Duration.Ticks) // TimeSpan не умеют складываться\n",
    "|> (fun x -> TimeSpan.FromTicks(x))"
   ]
  },
  {
   "cell_type": "code",
   "execution_count": null,
   "metadata": {},
   "outputs": [],
   "source": [
    "// Получение свойств событий\n",
    "allEvents\n",
    "|> Seq.map (fun x ->\n",
    "        x.Date,\n",
    "        x.Duration,\n",
    "        x.Name,\n",
    "        x.TryGetProperty(\"SessionID\") |> Option.defaultValue \"unknown\"\n",
    "    )\n",
    "|> Seq.take 3"
   ]
  },
  {
   "cell_type": "code",
   "execution_count": null,
   "metadata": {},
   "outputs": [],
   "source": [
    "// Получение свойств событий (как предыдущее, но с анонимным рекордом)\n",
    "allEvents\n",
    "|> Seq.map (fun x ->\n",
    "        {|\n",
    "        Date = x.Date\n",
    "        Duration = x.Duration\n",
    "        Name = x.Name\n",
    "        SessionID = x.TryGetProperty(\"SessionID\") |> Option.defaultValue \"unknown\"\n",
    "        |})\n",
    "|> Seq.take 3 "
   ]
  },
  {
   "cell_type": "code",
   "execution_count": null,
   "metadata": {},
   "outputs": [],
   "source": [
    "# r \"nuget: Xplot.Plotly\"\n",
    "open XPlot.Plotly"
   ]
  },
  {
   "cell_type": "code",
   "execution_count": null,
   "metadata": {},
   "outputs": [],
   "source": [
    "allEvents\n",
    "|> Seq.map (fun x -> x.Date, x.Duration.TotalSeconds)\n",
    "|> Chart.Area"
   ]
  },
  {
   "cell_type": "code",
   "execution_count": null,
   "metadata": {},
   "outputs": [],
   "source": []
  }
 ]
}